{
  "cells": [
    {
      "cell_type": "markdown",
      "metadata": {},
      "source": [
        "**ACKNOWLEDGEMENT**: The original dataset <data.tsv> and general guideline was provided by Professor Jonathan Rose in the NLP class he taught in 2024."
      ]
    },
    {
      "cell_type": "markdown",
      "metadata": {
        "id": "EZ0WASsts7b5"
      },
      "source": [
        "# Data Preparation"
      ]
    },
    {
      "cell_type": "markdown",
      "metadata": {
        "id": "6clCgkeHVh8N"
      },
      "source": [
        "The data preparation steps are pretty much the same as what we have done when building the baseline model.\n",
        "\n",
        "To run this notebook, we will need to first upload the original `<data.tsv>` file to the Files tab in Colab."
      ]
    },
    {
      "cell_type": "code",
      "execution_count": 4,
      "metadata": {
        "colab": {
          "base_uri": "https://localhost:8080/"
        },
        "id": "2TAt1k54qhLn",
        "outputId": "a0df47ac-3cf6-42e5-8c61-59cca191da94"
      },
      "outputs": [
        {
          "name": "stdout",
          "output_type": "stream",
          "text": [
            "Requirement already satisfied: torchtext==0.12.0 in /usr/local/lib/python3.10/dist-packages (0.12.0)\n",
            "Requirement already satisfied: tqdm in /usr/local/lib/python3.10/dist-packages (from torchtext==0.12.0) (4.66.5)\n",
            "Requirement already satisfied: requests in /usr/local/lib/python3.10/dist-packages (from torchtext==0.12.0) (2.32.3)\n",
            "Requirement already satisfied: torch==1.11.0 in /usr/local/lib/python3.10/dist-packages (from torchtext==0.12.0) (1.11.0)\n",
            "Requirement already satisfied: numpy in /usr/local/lib/python3.10/dist-packages (from torchtext==0.12.0) (1.26.4)\n",
            "Requirement already satisfied: typing-extensions in /usr/local/lib/python3.10/dist-packages (from torch==1.11.0->torchtext==0.12.0) (4.12.2)\n",
            "Requirement already satisfied: charset-normalizer<4,>=2 in /usr/local/lib/python3.10/dist-packages (from requests->torchtext==0.12.0) (3.3.2)\n",
            "Requirement already satisfied: idna<4,>=2.5 in /usr/local/lib/python3.10/dist-packages (from requests->torchtext==0.12.0) (3.10)\n",
            "Requirement already satisfied: urllib3<3,>=1.21.1 in /usr/local/lib/python3.10/dist-packages (from requests->torchtext==0.12.0) (2.2.3)\n",
            "Requirement already satisfied: certifi>=2017.4.17 in /usr/local/lib/python3.10/dist-packages (from requests->torchtext==0.12.0) (2024.8.30)\n"
          ]
        }
      ],
      "source": [
        "!pip install -U torchtext==0.12.0"
      ]
    },
    {
      "cell_type": "code",
      "execution_count": 5,
      "metadata": {
        "colab": {
          "base_uri": "https://localhost:8080/"
        },
        "id": "GqZDcNeiCRCY",
        "outputId": "a672ab6e-e0eb-4d4a-fd28-b6a1427f1932"
      },
      "outputs": [
        {
          "name": "stdout",
          "output_type": "stream",
          "text": [
            "Training dataset size: 6400\n",
            "Validation dataset size: 1600\n",
            "Test dataset size: 2000\n",
            "Overfit dataset size: 50\n"
          ]
        }
      ],
      "source": [
        "import pandas as pd\n",
        "from sklearn.model_selection import train_test_split\n",
        "import os\n",
        "\n",
        "df = pd.read_csv('data.tsv', sep='\\t')\n",
        "\n",
        "# Create 4 datasets:\n",
        "temp, test = train_test_split(df, test_size=0.2, random_state=42)\n",
        "train, val = train_test_split(temp, test_size=16/80, random_state=42)\n",
        "overfit = train.sample(n=50, random_state=42) # the overfit dataset\n",
        "\n",
        "# Save to TSV under the `data` directory:\n",
        "if not os.path.exists('data'):\n",
        "    os.makedirs('data')\n",
        "train.to_csv(os.path.join('data', 'train.tsv'), sep='\\t', index=False)\n",
        "val.to_csv(os.path.join('data', 'validation.tsv'), sep='\\t', index=False)\n",
        "test.to_csv(os.path.join('data', 'test.tsv'), sep='\\t', index=False)\n",
        "overfit.to_csv(os.path.join('data', 'overfit.tsv'), sep='\\t', index=False)\n",
        "\n",
        "# Display number of samples in each set\n",
        "print(f\"Training dataset size: {len(train)}\")\n",
        "print(f\"Validation dataset size: {len(val)}\")\n",
        "print(f\"Test dataset size: {len(test)}\")\n",
        "print(f\"Overfit dataset size: {len(overfit)}\")"
      ]
    },
    {
      "cell_type": "markdown",
      "metadata": {},
      "source": [
        "**ACKNOWLEDGEMENT**: The `TextDataset` class and `my_collate_function()` were provided in the NLP course materials."
      ]
    },
    {
      "cell_type": "code",
      "execution_count": 6,
      "metadata": {
        "id": "nXYYZQLuWaw-"
      },
      "outputs": [],
      "source": [
        "import torch\n",
        "import torchtext\n",
        "from torchtext import data\n",
        "import torch.optim as optim\n",
        "import argparse\n",
        "import os\n",
        "import pandas as pd\n",
        "\n",
        "class TextDataset(torch.utils.data.Dataset):\n",
        "    def __init__(self, vocab, split=\"train\"):\n",
        "        data_path = \"data\"\n",
        "        df = pd.read_csv(os.path.join(data_path, f\"{split}.tsv\"), sep=\"\\t\")\n",
        "\n",
        "        # X: torch.tensor (maxlen, batch_size), padded indices\n",
        "        # Y: torch.tensor of len N\n",
        "        X, Y = [], []\n",
        "        V = len(vocab.vectors)\n",
        "        for i, row in df.iterrows():\n",
        "            L = row[\"text\"].split()\n",
        "            X.append(torch.tensor([vocab.stoi.get(w, V-1) for w in L]))  # Use the last word in the vocab as the \"out-of-vocabulary\" token\n",
        "            Y.append(row.label)\n",
        "        self.X = X\n",
        "        self.Y = torch.tensor(Y)\n",
        "\n",
        "    def __len__(self):\n",
        "        return len(self.X)\n",
        "\n",
        "    def __getitem__(self, idx):\n",
        "        return self.X[idx], self.Y[idx]\n",
        "\n",
        "# my_collate_function prepares batches\n",
        "# it also pads each batch with zeroes.\n",
        "# CUI: It uses padding to make batches have the same length\n",
        "\n",
        "def my_collate_function(batch, device):\n",
        "    # Handle the padding here\n",
        "    # batch is approximately: [dataset[i] for i in range(0, batch_size)]\n",
        "    # Since the dataset[i]'s contents is defined in the __getitem__() above, this collate function\n",
        "    # should be set correspondingly.\n",
        "    # Also: collate_function just takes one argument. To pass in additional arguments (e.g., device),\n",
        "    # we need to wrap up an anonymous function (using lambda below)\n",
        "    batch_x, batch_y = [], []\n",
        "    max_len = 0\n",
        "    for x,y in batch:\n",
        "        batch_y.append(y)\n",
        "        max_len = max(max_len, len(x))\n",
        "    for x,y in batch:\n",
        "        x_p = torch.concat(\n",
        "            [x, torch.zeros(max_len - len(x))]\n",
        "        )\n",
        "        batch_x.append(x_p)\n",
        "    return torch.stack(batch_x).t().int().to(device), torch.tensor(batch_y).to(device)"
      ]
    },
    {
      "cell_type": "code",
      "execution_count": 7,
      "metadata": {
        "colab": {
          "base_uri": "https://localhost:8080/"
        },
        "id": "NedfRTYbVVO1",
        "outputId": "c75b784c-dca5-41d3-c9c1-caf73ff82579"
      },
      "outputs": [
        {
          "name": "stderr",
          "output_type": "stream",
          "text": [
            ".vector_cache/glove.6B.zip: 862MB [03:16, 4.39MB/s]                           \n",
            "100%|█████████▉| 399999/400000 [00:17<00:00, 22519.48it/s]\n"
          ]
        }
      ],
      "source": [
        "# Pre-process the TSV files to generate our datasets:\n",
        "glove = torchtext.vocab.GloVe(name=\"6B\",dim=100) # embedding size = 100\n",
        "train_dataset = TextDataset(glove, \"train\")\n",
        "val_dataset = TextDataset(glove, \"validation\")\n",
        "test_dataset = TextDataset(glove, \"test\")\n",
        "overfit_dataset = TextDataset(glove, \"overfit\")"
      ]
    },
    {
      "cell_type": "markdown",
      "metadata": {
        "id": "lQaTptTAWLQt"
      },
      "source": [
        "Some helper functions are created such as `create_dataloaders()` and `plot_loss_curves()` to make the training loop more concise and readable."
      ]
    },
    {
      "cell_type": "code",
      "execution_count": 8,
      "metadata": {
        "id": "ptN6xGTzVaqT"
      },
      "outputs": [],
      "source": [
        "# Create dataloaders for batch training:\n",
        "def create_dataloaders(args_batch_size = 4, device = 'cpu'):\n",
        "  train_dataloader = torch.utils.data.DataLoader(\n",
        "      dataset=train_dataset,\n",
        "      batch_size=args_batch_size,\n",
        "      shuffle=False,\n",
        "      collate_fn=lambda batch: my_collate_function(batch, device))\n",
        "  validation_dataloader = torch.utils.data.DataLoader(\n",
        "      dataset=val_dataset,\n",
        "      batch_size=args_batch_size,\n",
        "      shuffle=False,\n",
        "      collate_fn=lambda batch: my_collate_function(batch, device))\n",
        "  test_loader = torch.utils.data.DataLoader(\n",
        "    dataset=test_dataset,\n",
        "    batch_size=args_batch_size,\n",
        "    shuffle=False,\n",
        "    collate_fn=lambda batch: my_collate_function(batch, device)\n",
        "  )\n",
        "  overfit_loader = torch.utils.data.DataLoader(\n",
        "    dataset=overfit_dataset,\n",
        "    batch_size=args_batch_size,\n",
        "    shuffle=False,\n",
        "    collate_fn=lambda batch: my_collate_function(batch, device)\n",
        "  )\n",
        "  return train_dataloader, validation_dataloader, test_loader, overfit_loader"
      ]
    },
    {
      "cell_type": "code",
      "execution_count": 9,
      "metadata": {
        "id": "TvIQg4RxVclj"
      },
      "outputs": [],
      "source": [
        "def plot_loss_curves(num_epochs, train_losses, val_losses):\n",
        "  # Plotting\n",
        "  plt.figure(figsize=(15, 5))\n",
        "\n",
        "  # Plot training loss and test loss\n",
        "  plt.subplot(1, 2, 1)\n",
        "  plt.plot(range(1, num_epochs + 1), train_losses, label=\"Training Loss\")\n",
        "  plt.plot(range(1, num_epochs + 1), val_losses, label=\"Validation Loss\")\n",
        "  plt.xlabel(\"Epoch\")\n",
        "  plt.ylabel(\"Loss\")\n",
        "  plt.title(\"Loss vs Epochs on overfit.tsv\")\n",
        "  plt.legend()\n",
        "\n",
        "  plt.tight_layout()\n",
        "  plt.show()\n",
        "\n",
        "def plot_accuracy_curves(num_epochs, train_accuracies, val_accuracies):\n",
        "  # Plotting\n",
        "  plt.figure(figsize=(15, 5))\n",
        "\n",
        "  # Plot training accuracy and test accuracy\n",
        "  plt.subplot(1, 2, 2)\n",
        "  plt.plot(range(1, num_epochs + 1), train_accuracies, label=\"Training Accuracy\")\n",
        "  plt.plot(range(1, num_epochs + 1), val_accuracies, label=\"Validation Accuracy\")\n",
        "  plt.xlabel(\"Epoch\")\n",
        "  plt.ylabel(\"Accuracy\")\n",
        "  plt.title(\"Accuracy vs Epochs on overfit.tsv\")\n",
        "  plt.legend()\n",
        "\n",
        "  plt.tight_layout()\n",
        "  plt.show()"
      ]
    },
    {
      "cell_type": "markdown",
      "metadata": {},
      "source": [
        "# Building a CNN Model for Classification"
      ]
    },
    {
      "cell_type": "markdown",
      "metadata": {
        "id": "3iUfrDw7B1UJ"
      },
      "source": [
        "Define the CNN classifier class:"
      ]
    },
    {
      "cell_type": "markdown",
      "metadata": {
        "id": "Gfo3l6_Dl0it"
      },
      "source": [
        "**NOTE**: It is important to make sure the dimensions are all correct, especially when we have batch size and number of channels introduced in this task. We simply use `unsqueeze()` and `squeeze()` to handle these issues."
      ]
    },
    {
      "cell_type": "code",
      "execution_count": 59,
      "metadata": {
        "id": "TuFf66fxoM0s"
      },
      "outputs": [],
      "source": [
        "import torch\n",
        "import torch.nn as nn\n",
        "\n",
        "class CNNClassifier(nn.Module):\n",
        "  def __init__(self, vocab, k1=2, k2=4, n1=50, n2=50):\n",
        "    super(CNNClassifier, self).__init__()\n",
        "\n",
        "    self.embedding = nn.Embedding.from_pretrained(vocab.vectors, freeze=True)\n",
        "\n",
        "    # Convolutional layers:\n",
        "    embedding_dim = vocab.vectors.shape[1]\n",
        "    self.conv1 = nn.Conv2d(in_channels=1, out_channels=n1, kernel_size=(k1, embedding_dim), bias=False)\n",
        "    self.conv2 = nn.Conv2d(in_channels=1, out_channels=n2, kernel_size=(k2, embedding_dim), bias=False)\n",
        "\n",
        "    # Fully-connected layer:\n",
        "    # Input size: n1 + n2\n",
        "    self.fc = nn.Linear(n1 + n2, 1)\n",
        "\n",
        "  def forward(self, x):\n",
        "    # Expand word indices to word embeddings:\n",
        "    embeddings = self.embedding(x)\n",
        "    embeddings = embeddings.unsqueeze(1)\n",
        "\n",
        "    # Use ReLU:\n",
        "    conv1_out = nn.functional.relu(self.conv1(embeddings))\n",
        "    conv2_out = nn.functional.relu(self.conv2(embeddings))\n",
        "\n",
        "    pool1_out = nn.functional.max_pool2d(conv1_out, kernel_size=(conv1_out.size(2), 1)).squeeze(2)\n",
        "    pool2_out = nn.functional.max_pool2d(conv2_out, kernel_size=(conv2_out.size(2), 1)).squeeze(2)\n",
        "\n",
        "    combined = torch.cat((pool1_out, pool2_out), dim=1)\n",
        "    combined = combined.squeeze(2)\n",
        "\n",
        "    output = self.fc(combined)\n",
        "\n",
        "    return output"
      ]
    },
    {
      "cell_type": "markdown",
      "metadata": {
        "id": "cMXgpoVZpjkd"
      },
      "source": [
        "## Testing the CNN Model"
      ]
    },
    {
      "cell_type": "markdown",
      "metadata": {
        "id": "U9XRr5l-B6G4"
      },
      "source": [
        "Write the training loop to train, validate, and test the model (on the overfit dataset):"
      ]
    },
    {
      "cell_type": "code",
      "execution_count": 60,
      "metadata": {
        "colab": {
          "base_uri": "https://localhost:8080/",
          "height": 1000
        },
        "id": "R04pbQgMVNYW",
        "outputId": "5fa361d5-0e23-42c3-f56d-673e21585a9c"
      },
      "outputs": [
        {
          "name": "stdout",
          "output_type": "stream",
          "text": [
            "Using device: cpu\n"
          ]
        },
        {
          "name": "stderr",
          "output_type": "stream",
          "text": [
            "Training epochs:: 100%|██████████| 50/50 [00:31<00:00,  1.58epoch/s]\n"
          ]
        },
        {
          "name": "stdout",
          "output_type": "stream",
          "text": [
            "Test Loss: 0.3731, Test Accuracy: 0.8380\n"
          ]
        },
        {
          "data": {
            "image/png": "[encoded data removed]",
            "text/plain": [
              "<Figure size 1500x500 with 1 Axes>"
            ]
          },
          "metadata": {},
          "output_type": "display_data"
        },
        {
          "data": {
            "image/png": "[encoded data removed]",
            "text/plain": [
              "<Figure size 1500x500 with 1 Axes>"
            ]
          },
          "metadata": {},
          "output_type": "display_data"
        }
      ],
      "source": [
        "import matplotlib.pyplot as plt\n",
        "from tqdm import tqdm\n",
        "\n",
        "def train_overfit(args_batch_size = 4):\n",
        "  torch.manual_seed(2)\n",
        "\n",
        "  device = torch.device('cuda' if torch.cuda.is_available() else 'cpu')\n",
        "  print (\"Using device:\", device)\n",
        "\n",
        "  # Hyperparameters:\n",
        "  embedding_dim = 100 # We use embedding size = 100\n",
        "  learning_rate = 0.001\n",
        "  num_epochs = 50\n",
        "  batch_size = args_batch_size\n",
        "\n",
        "  # Initialize:\n",
        "  model = CNNClassifier(vocab=glove)\n",
        "  criterion = nn.BCEWithLogitsLoss()\n",
        "  optimizer = optim.Adam(model.parameters(), lr=learning_rate)\n",
        "\n",
        "  train_losses = []\n",
        "  train_accuracies = []\n",
        "  val_losses = []\n",
        "  val_accuracies = []\n",
        "\n",
        "  train_loader, validation_loader, test_loader, overfit_loader = create_dataloaders(\n",
        "      args_batch_size = args_batch_size, device = device\n",
        "  )\n",
        "\n",
        "  with tqdm(range(num_epochs), unit=\"epoch\") as epochs_tqdm:\n",
        "    epochs_tqdm.set_description(\"Training epochs:\")\n",
        "    for epoch in epochs_tqdm:\n",
        "      model.train()\n",
        "\n",
        "      total_loss = 0\n",
        "      correct = 0\n",
        "      total = 0\n",
        "\n",
        "      for inputs, targets in overfit_loader:\n",
        "\n",
        "        inputs = inputs.transpose(0, 1)\n",
        "\n",
        "        optimizer.zero_grad()\n",
        "\n",
        "        # print('inputs.shape', inputs.shape)\n",
        "        outputs = model.forward(inputs)\n",
        "        loss = criterion(outputs, targets.unsqueeze(1).float())\n",
        "\n",
        "        loss.backward()\n",
        "        optimizer.step()\n",
        "\n",
        "        total_loss += loss.item()\n",
        "\n",
        "        predicted = (torch.sigmoid(outputs) > 0.5).int()\n",
        "        correct += (predicted.squeeze(-1) == targets).sum().item()\n",
        "\n",
        "        total += targets.size(0)\n",
        "\n",
        "      avg_loss = total_loss / len(overfit_loader)\n",
        "      accuracy = correct / total\n",
        "\n",
        "      train_losses.append(avg_loss)\n",
        "      train_accuracies.append(accuracy)\n",
        "\n",
        "      # Evaluate on the val set after each epoch:\n",
        "      model.eval()\n",
        "      total_val_loss = 0\n",
        "      correct_val = 0\n",
        "      total_val = 0\n",
        "\n",
        "      with torch.no_grad():\n",
        "        for inputs, targets in validation_loader:\n",
        "            inputs = inputs.transpose(0, 1)\n",
        "\n",
        "            outputs = model.forward(inputs)\n",
        "            val_loss = criterion(outputs, targets.unsqueeze(1).float())\n",
        "\n",
        "            total_val_loss += val_loss.item()\n",
        "            predicted = (torch.sigmoid(outputs) > 0.5).int()\n",
        "            correct_val += (predicted.squeeze(-1) == targets).sum().item()\n",
        "            total_val += targets.size(0)\n",
        "\n",
        "      avg_val_loss = total_val_loss / len(validation_loader)\n",
        "      val_accuracy = correct_val / total_val\n",
        "\n",
        "      val_losses.append(avg_val_loss)\n",
        "      val_accuracies.append(val_accuracy)\n",
        "\n",
        "  # Evaluate on the test set after training is complete:\n",
        "  model.eval()\n",
        "  total_test_loss = 0\n",
        "  correct_test = 0\n",
        "  total_test = 0\n",
        "\n",
        "  with torch.no_grad():\n",
        "      for inputs, targets in test_loader:\n",
        "          inputs = inputs.transpose(0, 1)\n",
        "          outputs = model.forward(inputs)\n",
        "          test_loss = criterion(outputs, targets.unsqueeze(1).float())\n",
        "\n",
        "          total_test_loss += test_loss.item()\n",
        "          predicted = (torch.sigmoid(outputs) > 0.5).int()\n",
        "          correct_test += (predicted.squeeze(-1) == targets).sum().item()\n",
        "          total_test += targets.size(0)\n",
        "\n",
        "  avg_test_loss = total_test_loss / len(test_loader)\n",
        "  test_accuracy = correct_test / total_test\n",
        "\n",
        "  print(f\"Test Loss: {avg_test_loss:.4f}, Test Accuracy: {test_accuracy:.4f}\")\n",
        "\n",
        "  # Plot:\n",
        "  plot_loss_curves(num_epochs, train_losses, val_losses)\n",
        "  plot_accuracy_curves(num_epochs, train_accuracies, val_accuracies)\n",
        "\n",
        "  return model\n",
        "\n",
        "\n",
        "# Run the training loop on the baseline model:\n",
        "trained_baseline_model = train_overfit(args_batch_size=4)"
      ]
    },
    {
      "cell_type": "markdown",
      "metadata": {
        "id": "vev5_zYar5Vu"
      },
      "source": [
        "## Obtaining the Trained CNN Model with Hyperparameter Tuning"
      ]
    },
    {
      "cell_type": "code",
      "execution_count": 61,
      "metadata": {
        "id": "h2OztN7Tr7JF"
      },
      "outputs": [],
      "source": [
        "def plot_loss_curves(num_epochs, train_losses, val_losses):\n",
        "  # Plotting\n",
        "  plt.figure(figsize=(15, 5))\n",
        "\n",
        "  # Plot training loss and test loss\n",
        "  plt.subplot(1, 2, 1)\n",
        "  plt.plot(range(1, num_epochs + 1), train_losses, label=\"Training Loss\")\n",
        "  plt.plot(range(1, num_epochs + 1), val_losses, label=\"Validation Loss\")\n",
        "  plt.xlabel(\"Epoch\")\n",
        "  plt.ylabel(\"Loss\")\n",
        "  plt.title(\"Loss vs Epochs using train.tsv\")\n",
        "  plt.legend()\n",
        "\n",
        "  plt.tight_layout()\n",
        "  plt.show()\n",
        "\n",
        "def plot_accuracy_curves(num_epochs, train_accuracies, val_accuracies):\n",
        "  # Plotting\n",
        "  plt.figure(figsize=(15, 5))\n",
        "\n",
        "  # Plot training accuracy and test accuracy\n",
        "  plt.subplot(1, 2, 2)\n",
        "  plt.plot(range(1, num_epochs + 1), train_accuracies, label=\"Training Accuracy\")\n",
        "  plt.plot(range(1, num_epochs + 1), val_accuracies, label=\"Validation Accuracy\")\n",
        "  plt.xlabel(\"Epoch\")\n",
        "  plt.ylabel(\"Accuracy\")\n",
        "  plt.title(\"Accuracy vs Epochs using train.tsv\")\n",
        "  plt.legend()\n",
        "\n",
        "  plt.tight_layout()\n",
        "  plt.show()"
      ]
    },
    {
      "cell_type": "code",
      "execution_count": 62,
      "metadata": {
        "id": "IfRD4zuPr8YE"
      },
      "outputs": [],
      "source": [
        "import matplotlib.pyplot as plt\n",
        "from tqdm import tqdm\n",
        "\n",
        "def train(\n",
        "    args_batch_size=4, arg_k1=2, arg_n1=10, arg_k2=4, arg_n2=10,\n",
        "    learning_rate=0.001, num_epochs=50\n",
        "):\n",
        "  torch.manual_seed(2)\n",
        "\n",
        "  device = torch.device('cuda' if torch.cuda.is_available() else 'cpu')\n",
        "  print (\"Using device:\", device)\n",
        "\n",
        "  # Instantiate your model(s) and train them and so on\n",
        "\n",
        "  # Hyperparameters:\n",
        "  embedding_dim = 100 # We use embedding size = 100\n",
        "  # learning_rate = 0.001\n",
        "  # num_epochs = 50\n",
        "  batch_size = args_batch_size\n",
        "\n",
        "  # Initialize the model using different hyperparameters:\n",
        "  model = CNNClassifier(\n",
        "      vocab=glove, k1=arg_k1, n1=arg_n1, k2=arg_k2, n2=arg_n2\n",
        "  )\n",
        "  criterion = nn.BCEWithLogitsLoss()\n",
        "  optimizer = optim.Adam(model.parameters(), lr=learning_rate)\n",
        "\n",
        "  train_losses = []\n",
        "  train_accuracies = []\n",
        "  val_losses = []\n",
        "  val_accuracies = []\n",
        "\n",
        "  train_dataloader, validation_dataloader, test_loader, overfit_loader = create_dataloaders(\n",
        "      args_batch_size = args_batch_size, device = device\n",
        "  )\n",
        "\n",
        "  with tqdm(range(num_epochs), unit=\"epoch\") as epochs_tqdm:\n",
        "    epochs_tqdm.set_description(\"Training epochs:\")\n",
        "    for epoch in epochs_tqdm:\n",
        "      model.train()\n",
        "\n",
        "      total_loss = 0\n",
        "      correct = 0\n",
        "      total = 0\n",
        "\n",
        "      for inputs, targets in train_dataloader:\n",
        "\n",
        "        inputs = inputs.transpose(0, 1)\n",
        "\n",
        "        optimizer.zero_grad()\n",
        "\n",
        "        outputs = model.forward(inputs)\n",
        "        loss = criterion(outputs, targets.unsqueeze(1).float())\n",
        "\n",
        "        loss.backward()\n",
        "        optimizer.step()\n",
        "\n",
        "        total_loss += loss.item()\n",
        "\n",
        "        predicted = (torch.sigmoid(outputs) > 0.5).int()\n",
        "        correct += (predicted.squeeze(-1) == targets).sum().item()\n",
        "\n",
        "        total += targets.size(0)\n",
        "\n",
        "      avg_loss = total_loss / len(train_dataloader)\n",
        "      accuracy = correct / total\n",
        "\n",
        "      train_losses.append(avg_loss)\n",
        "      train_accuracies.append(accuracy)\n",
        "\n",
        "      # Evaluate on the val set after each epoch:\n",
        "      model.eval()\n",
        "      total_val_loss = 0\n",
        "      correct_val = 0\n",
        "      total_val = 0\n",
        "\n",
        "      with torch.no_grad():\n",
        "        for inputs, targets in validation_dataloader:\n",
        "            inputs = inputs.transpose(0, 1)\n",
        "\n",
        "            outputs = model.forward(inputs)\n",
        "            val_loss = criterion(outputs, targets.unsqueeze(1).float())\n",
        "\n",
        "            total_val_loss += val_loss.item()\n",
        "            predicted = (torch.sigmoid(outputs) > 0.5).int()\n",
        "            correct_val += (predicted.squeeze(-1) == targets).sum().item()\n",
        "            total_val += targets.size(0)\n",
        "\n",
        "      avg_val_loss = total_val_loss / len(validation_dataloader)\n",
        "      val_accuracy = correct_val / total_val\n",
        "\n",
        "      val_losses.append(avg_val_loss)\n",
        "      val_accuracies.append(val_accuracy)\n",
        "\n",
        "\n",
        "\n",
        "  # Evaluate on the test set after training is complete:\n",
        "  model.eval()\n",
        "  total_test_loss = 0\n",
        "  correct_test = 0\n",
        "  total_test = 0\n",
        "\n",
        "  with torch.no_grad():\n",
        "      for inputs, targets in test_loader:\n",
        "          inputs = inputs.transpose(0, 1)\n",
        "          outputs = model.forward(inputs)\n",
        "          test_loss = criterion(outputs, targets.unsqueeze(1).float())\n",
        "\n",
        "          total_test_loss += test_loss.item()\n",
        "          predicted = (torch.sigmoid(outputs) > 0.5).int()\n",
        "          correct_test += (predicted.squeeze(-1) == targets).sum().item()\n",
        "          total_test += targets.size(0)\n",
        "\n",
        "  avg_test_loss = total_test_loss / len(test_loader)\n",
        "  test_accuracy = correct_test / total_test\n",
        "\n",
        "  print(f\"Test Loss: {avg_test_loss:.4f}, Test Accuracy: {test_accuracy:.4f}\")\n",
        "\n",
        "  # Plot:\n",
        "  # plot_loss_curves(num_epochs, train_losses, val_losses)\n",
        "  # plot_accuracy_curves(num_epochs, train_accuracies, val_accuracies)\n",
        "\n",
        "  return model, test_accuracy, train_losses, train_accuracies, val_losses, val_accuracies"
      ]
    },
    {
      "cell_type": "code",
      "execution_count": 65,
      "metadata": {
        "colab": {
          "base_uri": "https://localhost:8080/",
          "height": 1000
        },
        "id": "tGUiwQm7tUNH",
        "outputId": "8fce5f51-544c-413d-86f9-a8842f52baef"
      },
      "outputs": [
        {
          "name": "stdout",
          "output_type": "stream",
          "text": [
            "Testing parameters: {'batch_size': 16, 'k1': 2, 'k2': 4, 'learning_rate': 0.001, 'n1': 10, 'n2': 10}\n",
            "Using device: cpu\n"
          ]
        },
        {
          "name": "stderr",
          "output_type": "stream",
          "text": [
            "Training epochs:: 100%|██████████| 50/50 [02:22<00:00,  2.85s/epoch]\n"
          ]
        },
        {
          "name": "stdout",
          "output_type": "stream",
          "text": [
            "Test Loss: 0.6019, Test Accuracy: 0.9015\n",
            "Testing parameters: {'batch_size': 16, 'k1': 2, 'k2': 4, 'learning_rate': 0.001, 'n1': 10, 'n2': 20}\n",
            "Using device: cpu\n"
          ]
        },
        {
          "name": "stderr",
          "output_type": "stream",
          "text": [
            "Training epochs:: 100%|██████████| 50/50 [02:28<00:00,  2.97s/epoch]\n"
          ]
        },
        {
          "name": "stdout",
          "output_type": "stream",
          "text": [
            "Test Loss: 0.5617, Test Accuracy: 0.9050\n",
            "Testing parameters: {'batch_size': 16, 'k1': 2, 'k2': 4, 'learning_rate': 0.001, 'n1': 20, 'n2': 10}\n",
            "Using device: cpu\n"
          ]
        },
        {
          "name": "stderr",
          "output_type": "stream",
          "text": [
            "Training epochs:: 100%|██████████| 50/50 [02:27<00:00,  2.95s/epoch]\n"
          ]
        },
        {
          "name": "stdout",
          "output_type": "stream",
          "text": [
            "Test Loss: 0.5483, Test Accuracy: 0.9075\n",
            "Testing parameters: {'batch_size': 16, 'k1': 2, 'k2': 4, 'learning_rate': 0.001, 'n1': 20, 'n2': 20}\n",
            "Using device: cpu\n"
          ]
        },
        {
          "name": "stderr",
          "output_type": "stream",
          "text": [
            "Training epochs:: 100%|██████████| 50/50 [02:32<00:00,  3.05s/epoch]\n"
          ]
        },
        {
          "name": "stdout",
          "output_type": "stream",
          "text": [
            "Test Loss: 0.6014, Test Accuracy: 0.9080\n",
            "Testing parameters: {'batch_size': 16, 'k1': 2, 'k2': 4, 'learning_rate': 0.01, 'n1': 10, 'n2': 10}\n",
            "Using device: cpu\n"
          ]
        },
        {
          "name": "stderr",
          "output_type": "stream",
          "text": [
            "Training epochs:: 100%|██████████| 50/50 [02:22<00:00,  2.85s/epoch]\n"
          ]
        },
        {
          "name": "stdout",
          "output_type": "stream",
          "text": [
            "Test Loss: 1.4305, Test Accuracy: 0.8905\n",
            "Testing parameters: {'batch_size': 16, 'k1': 2, 'k2': 4, 'learning_rate': 0.01, 'n1': 10, 'n2': 20}\n",
            "Using device: cpu\n"
          ]
        },
        {
          "name": "stderr",
          "output_type": "stream",
          "text": [
            "Training epochs:: 100%|██████████| 50/50 [02:28<00:00,  2.98s/epoch]\n"
          ]
        },
        {
          "name": "stdout",
          "output_type": "stream",
          "text": [
            "Test Loss: 1.8944, Test Accuracy: 0.8820\n",
            "Testing parameters: {'batch_size': 16, 'k1': 2, 'k2': 4, 'learning_rate': 0.01, 'n1': 20, 'n2': 10}\n",
            "Using device: cpu\n"
          ]
        },
        {
          "name": "stderr",
          "output_type": "stream",
          "text": [
            "Training epochs:: 100%|██████████| 50/50 [02:27<00:00,  2.95s/epoch]\n"
          ]
        },
        {
          "name": "stdout",
          "output_type": "stream",
          "text": [
            "Test Loss: 1.8945, Test Accuracy: 0.8880\n",
            "Testing parameters: {'batch_size': 16, 'k1': 2, 'k2': 4, 'learning_rate': 0.01, 'n1': 20, 'n2': 20}\n",
            "Using device: cpu\n"
          ]
        },
        {
          "name": "stderr",
          "output_type": "stream",
          "text": [
            "Training epochs:: 100%|██████████| 50/50 [02:31<00:00,  3.02s/epoch]\n"
          ]
        },
        {
          "name": "stdout",
          "output_type": "stream",
          "text": [
            "Test Loss: 2.1720, Test Accuracy: 0.8875\n",
            "Testing parameters: {'batch_size': 16, 'k1': 2, 'k2': 8, 'learning_rate': 0.001, 'n1': 10, 'n2': 10}\n",
            "Using device: cpu\n"
          ]
        },
        {
          "name": "stderr",
          "output_type": "stream",
          "text": [
            "Training epochs:: 100%|██████████| 50/50 [03:08<00:00,  3.77s/epoch]\n"
          ]
        },
        {
          "name": "stdout",
          "output_type": "stream",
          "text": [
            "Test Loss: 0.6948, Test Accuracy: 0.8930\n",
            "Testing parameters: {'batch_size': 16, 'k1': 2, 'k2': 8, 'learning_rate': 0.001, 'n1': 10, 'n2': 20}\n",
            "Using device: cpu\n"
          ]
        },
        {
          "name": "stderr",
          "output_type": "stream",
          "text": [
            "Training epochs:: 100%|██████████| 50/50 [03:18<00:00,  3.97s/epoch]\n"
          ]
        },
        {
          "name": "stdout",
          "output_type": "stream",
          "text": [
            "Test Loss: 0.6953, Test Accuracy: 0.9020\n",
            "Testing parameters: {'batch_size': 16, 'k1': 2, 'k2': 8, 'learning_rate': 0.001, 'n1': 20, 'n2': 10}\n",
            "Using device: cpu\n"
          ]
        },
        {
          "name": "stderr",
          "output_type": "stream",
          "text": [
            "Training epochs:: 100%|██████████| 50/50 [03:10<00:00,  3.80s/epoch]\n"
          ]
        },
        {
          "name": "stdout",
          "output_type": "stream",
          "text": [
            "Test Loss: 0.6288, Test Accuracy: 0.9045\n",
            "Testing parameters: {'batch_size': 16, 'k1': 2, 'k2': 8, 'learning_rate': 0.001, 'n1': 20, 'n2': 20}\n",
            "Using device: cpu\n"
          ]
        },
        {
          "name": "stderr",
          "output_type": "stream",
          "text": [
            "Training epochs:: 100%|██████████| 50/50 [03:21<00:00,  4.03s/epoch]\n"
          ]
        },
        {
          "name": "stdout",
          "output_type": "stream",
          "text": [
            "Test Loss: 0.6835, Test Accuracy: 0.9125\n",
            "Testing parameters: {'batch_size': 16, 'k1': 2, 'k2': 8, 'learning_rate': 0.01, 'n1': 10, 'n2': 10}\n",
            "Using device: cpu\n"
          ]
        },
        {
          "name": "stderr",
          "output_type": "stream",
          "text": [
            "Training epochs:: 100%|██████████| 50/50 [03:07<00:00,  3.76s/epoch]\n"
          ]
        },
        {
          "name": "stdout",
          "output_type": "stream",
          "text": [
            "Test Loss: 1.7639, Test Accuracy: 0.8675\n",
            "Testing parameters: {'batch_size': 16, 'k1': 2, 'k2': 8, 'learning_rate': 0.01, 'n1': 10, 'n2': 20}\n",
            "Using device: cpu\n"
          ]
        },
        {
          "name": "stderr",
          "output_type": "stream",
          "text": [
            "Training epochs:: 100%|██████████| 50/50 [03:14<00:00,  3.89s/epoch]\n"
          ]
        },
        {
          "name": "stdout",
          "output_type": "stream",
          "text": [
            "Test Loss: 1.7524, Test Accuracy: 0.8755\n",
            "Testing parameters: {'batch_size': 16, 'k1': 2, 'k2': 8, 'learning_rate': 0.01, 'n1': 20, 'n2': 10}\n",
            "Using device: cpu\n"
          ]
        },
        {
          "name": "stderr",
          "output_type": "stream",
          "text": [
            "Training epochs:: 100%|██████████| 50/50 [03:09<00:00,  3.80s/epoch]\n"
          ]
        },
        {
          "name": "stdout",
          "output_type": "stream",
          "text": [
            "Test Loss: 2.0690, Test Accuracy: 0.8810\n",
            "Testing parameters: {'batch_size': 16, 'k1': 2, 'k2': 8, 'learning_rate': 0.01, 'n1': 20, 'n2': 20}\n",
            "Using device: cpu\n"
          ]
        },
        {
          "name": "stderr",
          "output_type": "stream",
          "text": [
            "Training epochs:: 100%|██████████| 50/50 [03:20<00:00,  4.01s/epoch]\n"
          ]
        },
        {
          "name": "stdout",
          "output_type": "stream",
          "text": [
            "Test Loss: 1.8083, Test Accuracy: 0.8895\n",
            "Testing parameters: {'batch_size': 16, 'k1': 4, 'k2': 4, 'learning_rate': 0.001, 'n1': 10, 'n2': 10}\n",
            "Using device: cpu\n"
          ]
        },
        {
          "name": "stderr",
          "output_type": "stream",
          "text": [
            "Training epochs:: 100%|██████████| 50/50 [02:47<00:00,  3.34s/epoch]\n"
          ]
        },
        {
          "name": "stdout",
          "output_type": "stream",
          "text": [
            "Test Loss: 0.5931, Test Accuracy: 0.8900\n",
            "Testing parameters: {'batch_size': 16, 'k1': 4, 'k2': 4, 'learning_rate': 0.001, 'n1': 10, 'n2': 20}\n",
            "Using device: cpu\n"
          ]
        },
        {
          "name": "stderr",
          "output_type": "stream",
          "text": [
            "Training epochs:: 100%|██████████| 50/50 [02:55<00:00,  3.50s/epoch]\n"
          ]
        },
        {
          "name": "stdout",
          "output_type": "stream",
          "text": [
            "Test Loss: 0.5692, Test Accuracy: 0.9135\n",
            "Testing parameters: {'batch_size': 16, 'k1': 4, 'k2': 4, 'learning_rate': 0.001, 'n1': 20, 'n2': 10}\n",
            "Using device: cpu\n"
          ]
        },
        {
          "name": "stderr",
          "output_type": "stream",
          "text": [
            "Training epochs:: 100%|██████████| 50/50 [02:55<00:00,  3.50s/epoch]\n"
          ]
        },
        {
          "name": "stdout",
          "output_type": "stream",
          "text": [
            "Test Loss: 0.5692, Test Accuracy: 0.9135\n",
            "Testing parameters: {'batch_size': 16, 'k1': 4, 'k2': 4, 'learning_rate': 0.001, 'n1': 20, 'n2': 20}\n",
            "Using device: cpu\n"
          ]
        },
        {
          "name": "stderr",
          "output_type": "stream",
          "text": [
            "Training epochs:: 100%|██████████| 50/50 [03:00<00:00,  3.61s/epoch]\n"
          ]
        },
        {
          "name": "stdout",
          "output_type": "stream",
          "text": [
            "Test Loss: 0.5934, Test Accuracy: 0.9165\n",
            "Testing parameters: {'batch_size': 16, 'k1': 4, 'k2': 4, 'learning_rate': 0.01, 'n1': 10, 'n2': 10}\n",
            "Using device: cpu\n"
          ]
        },
        {
          "name": "stderr",
          "output_type": "stream",
          "text": [
            "Training epochs:: 100%|██████████| 50/50 [03:06<00:00,  3.73s/epoch]\n"
          ]
        },
        {
          "name": "stdout",
          "output_type": "stream",
          "text": [
            "Test Loss: 1.8696, Test Accuracy: 0.8825\n",
            "Testing parameters: {'batch_size': 16, 'k1': 4, 'k2': 4, 'learning_rate': 0.01, 'n1': 10, 'n2': 20}\n",
            "Using device: cpu\n"
          ]
        },
        {
          "name": "stderr",
          "output_type": "stream",
          "text": [
            "Training epochs:: 100%|██████████| 50/50 [03:10<00:00,  3.82s/epoch]\n"
          ]
        },
        {
          "name": "stdout",
          "output_type": "stream",
          "text": [
            "Test Loss: 1.7312, Test Accuracy: 0.8915\n",
            "Testing parameters: {'batch_size': 16, 'k1': 4, 'k2': 4, 'learning_rate': 0.01, 'n1': 20, 'n2': 10}\n",
            "Using device: cpu\n"
          ]
        },
        {
          "name": "stderr",
          "output_type": "stream",
          "text": [
            "Training epochs:: 100%|██████████| 50/50 [02:57<00:00,  3.55s/epoch]\n"
          ]
        },
        {
          "name": "stdout",
          "output_type": "stream",
          "text": [
            "Test Loss: 1.7312, Test Accuracy: 0.8915\n",
            "Testing parameters: {'batch_size': 16, 'k1': 4, 'k2': 4, 'learning_rate': 0.01, 'n1': 20, 'n2': 20}\n",
            "Using device: cpu\n"
          ]
        },
        {
          "name": "stderr",
          "output_type": "stream",
          "text": [
            "Training epochs:: 100%|██████████| 50/50 [02:58<00:00,  3.57s/epoch]\n"
          ]
        },
        {
          "name": "stdout",
          "output_type": "stream",
          "text": [
            "Test Loss: 1.9646, Test Accuracy: 0.8825\n",
            "Testing parameters: {'batch_size': 16, 'k1': 4, 'k2': 8, 'learning_rate': 0.001, 'n1': 10, 'n2': 10}\n",
            "Using device: cpu\n"
          ]
        },
        {
          "name": "stderr",
          "output_type": "stream",
          "text": [
            "Training epochs:: 100%|██████████| 50/50 [03:31<00:00,  4.23s/epoch]\n"
          ]
        },
        {
          "name": "stdout",
          "output_type": "stream",
          "text": [
            "Test Loss: 0.6601, Test Accuracy: 0.9040\n",
            "Testing parameters: {'batch_size': 16, 'k1': 4, 'k2': 8, 'learning_rate': 0.001, 'n1': 10, 'n2': 20}\n",
            "Using device: cpu\n"
          ]
        },
        {
          "name": "stderr",
          "output_type": "stream",
          "text": [
            "Training epochs:: 100%|██████████| 50/50 [03:40<00:00,  4.40s/epoch]\n"
          ]
        },
        {
          "name": "stdout",
          "output_type": "stream",
          "text": [
            "Test Loss: 0.6580, Test Accuracy: 0.9085\n",
            "Testing parameters: {'batch_size': 16, 'k1': 4, 'k2': 8, 'learning_rate': 0.001, 'n1': 20, 'n2': 10}\n",
            "Using device: cpu\n"
          ]
        },
        {
          "name": "stderr",
          "output_type": "stream",
          "text": [
            "Training epochs:: 100%|██████████| 50/50 [03:37<00:00,  4.34s/epoch]\n"
          ]
        },
        {
          "name": "stdout",
          "output_type": "stream",
          "text": [
            "Test Loss: 0.6875, Test Accuracy: 0.9045\n",
            "Testing parameters: {'batch_size': 16, 'k1': 4, 'k2': 8, 'learning_rate': 0.001, 'n1': 20, 'n2': 20}\n",
            "Using device: cpu\n"
          ]
        },
        {
          "name": "stderr",
          "output_type": "stream",
          "text": [
            "Training epochs:: 100%|██████████| 50/50 [03:44<00:00,  4.49s/epoch]\n"
          ]
        },
        {
          "name": "stdout",
          "output_type": "stream",
          "text": [
            "Test Loss: 0.6715, Test Accuracy: 0.9055\n",
            "Testing parameters: {'batch_size': 16, 'k1': 4, 'k2': 8, 'learning_rate': 0.01, 'n1': 10, 'n2': 10}\n",
            "Using device: cpu\n"
          ]
        },
        {
          "name": "stderr",
          "output_type": "stream",
          "text": [
            "Training epochs:: 100%|██████████| 50/50 [03:29<00:00,  4.19s/epoch]\n"
          ]
        },
        {
          "name": "stdout",
          "output_type": "stream",
          "text": [
            "Test Loss: 1.8448, Test Accuracy: 0.8660\n",
            "Testing parameters: {'batch_size': 16, 'k1': 4, 'k2': 8, 'learning_rate': 0.01, 'n1': 10, 'n2': 20}\n",
            "Using device: cpu\n"
          ]
        },
        {
          "name": "stderr",
          "output_type": "stream",
          "text": [
            "Training epochs:: 100%|██████████| 50/50 [03:38<00:00,  4.37s/epoch]\n"
          ]
        },
        {
          "name": "stdout",
          "output_type": "stream",
          "text": [
            "Test Loss: 1.8634, Test Accuracy: 0.8725\n",
            "Testing parameters: {'batch_size': 16, 'k1': 4, 'k2': 8, 'learning_rate': 0.01, 'n1': 20, 'n2': 10}\n",
            "Using device: cpu\n"
          ]
        },
        {
          "name": "stderr",
          "output_type": "stream",
          "text": [
            "Training epochs:: 100%|██████████| 50/50 [03:35<00:00,  4.32s/epoch]\n"
          ]
        },
        {
          "name": "stdout",
          "output_type": "stream",
          "text": [
            "Test Loss: 1.5788, Test Accuracy: 0.8800\n",
            "Testing parameters: {'batch_size': 16, 'k1': 4, 'k2': 8, 'learning_rate': 0.01, 'n1': 20, 'n2': 20}\n",
            "Using device: cpu\n"
          ]
        },
        {
          "name": "stderr",
          "output_type": "stream",
          "text": [
            "Training epochs:: 100%|██████████| 50/50 [03:45<00:00,  4.50s/epoch]\n"
          ]
        },
        {
          "name": "stdout",
          "output_type": "stream",
          "text": [
            "Test Loss: 1.7041, Test Accuracy: 0.8990\n",
            "Testing parameters: {'batch_size': 32, 'k1': 2, 'k2': 4, 'learning_rate': 0.001, 'n1': 10, 'n2': 10}\n",
            "Using device: cpu\n"
          ]
        },
        {
          "name": "stderr",
          "output_type": "stream",
          "text": [
            "Training epochs:: 100%|██████████| 50/50 [02:09<00:00,  2.60s/epoch]\n"
          ]
        },
        {
          "name": "stdout",
          "output_type": "stream",
          "text": [
            "Test Loss: 0.5759, Test Accuracy: 0.8895\n",
            "Testing parameters: {'batch_size': 32, 'k1': 2, 'k2': 4, 'learning_rate': 0.001, 'n1': 10, 'n2': 20}\n",
            "Using device: cpu\n"
          ]
        },
        {
          "name": "stderr",
          "output_type": "stream",
          "text": [
            "Training epochs:: 100%|██████████| 50/50 [02:17<00:00,  2.74s/epoch]\n"
          ]
        },
        {
          "name": "stdout",
          "output_type": "stream",
          "text": [
            "Test Loss: 0.4456, Test Accuracy: 0.9080\n",
            "Testing parameters: {'batch_size': 32, 'k1': 2, 'k2': 4, 'learning_rate': 0.001, 'n1': 20, 'n2': 10}\n",
            "Using device: cpu\n"
          ]
        },
        {
          "name": "stderr",
          "output_type": "stream",
          "text": [
            "Training epochs:: 100%|██████████| 50/50 [02:14<00:00,  2.69s/epoch]\n"
          ]
        },
        {
          "name": "stdout",
          "output_type": "stream",
          "text": [
            "Test Loss: 0.4356, Test Accuracy: 0.9120\n",
            "Testing parameters: {'batch_size': 32, 'k1': 2, 'k2': 4, 'learning_rate': 0.001, 'n1': 20, 'n2': 20}\n",
            "Using device: cpu\n"
          ]
        },
        {
          "name": "stderr",
          "output_type": "stream",
          "text": [
            "Training epochs:: 100%|██████████| 50/50 [02:20<00:00,  2.81s/epoch]\n"
          ]
        },
        {
          "name": "stdout",
          "output_type": "stream",
          "text": [
            "Test Loss: 0.4123, Test Accuracy: 0.9115\n",
            "Testing parameters: {'batch_size': 32, 'k1': 2, 'k2': 4, 'learning_rate': 0.01, 'n1': 10, 'n2': 10}\n",
            "Using device: cpu\n"
          ]
        },
        {
          "name": "stderr",
          "output_type": "stream",
          "text": [
            "Training epochs:: 100%|██████████| 50/50 [02:11<00:00,  2.64s/epoch]\n"
          ]
        },
        {
          "name": "stdout",
          "output_type": "stream",
          "text": [
            "Test Loss: 0.8171, Test Accuracy: 0.9015\n",
            "Testing parameters: {'batch_size': 32, 'k1': 2, 'k2': 4, 'learning_rate': 0.01, 'n1': 10, 'n2': 20}\n",
            "Using device: cpu\n"
          ]
        },
        {
          "name": "stderr",
          "output_type": "stream",
          "text": [
            "Training epochs:: 100%|██████████| 50/50 [02:16<00:00,  2.73s/epoch]\n"
          ]
        },
        {
          "name": "stdout",
          "output_type": "stream",
          "text": [
            "Test Loss: 0.9391, Test Accuracy: 0.8920\n",
            "Testing parameters: {'batch_size': 32, 'k1': 2, 'k2': 4, 'learning_rate': 0.01, 'n1': 20, 'n2': 10}\n",
            "Using device: cpu\n"
          ]
        },
        {
          "name": "stderr",
          "output_type": "stream",
          "text": [
            "Training epochs:: 100%|██████████| 50/50 [02:13<00:00,  2.67s/epoch]\n"
          ]
        },
        {
          "name": "stdout",
          "output_type": "stream",
          "text": [
            "Test Loss: 0.8549, Test Accuracy: 0.8985\n",
            "Testing parameters: {'batch_size': 32, 'k1': 2, 'k2': 4, 'learning_rate': 0.01, 'n1': 20, 'n2': 20}\n",
            "Using device: cpu\n"
          ]
        },
        {
          "name": "stderr",
          "output_type": "stream",
          "text": [
            "Training epochs:: 100%|██████████| 50/50 [02:21<00:00,  2.82s/epoch]\n"
          ]
        },
        {
          "name": "stdout",
          "output_type": "stream",
          "text": [
            "Test Loss: 0.8476, Test Accuracy: 0.9045\n",
            "Testing parameters: {'batch_size': 32, 'k1': 2, 'k2': 8, 'learning_rate': 0.001, 'n1': 10, 'n2': 10}\n",
            "Using device: cpu\n"
          ]
        },
        {
          "name": "stderr",
          "output_type": "stream",
          "text": [
            "Training epochs:: 100%|██████████| 50/50 [03:00<00:00,  3.61s/epoch]\n"
          ]
        },
        {
          "name": "stdout",
          "output_type": "stream",
          "text": [
            "Test Loss: 0.4995, Test Accuracy: 0.8995\n",
            "Testing parameters: {'batch_size': 32, 'k1': 2, 'k2': 8, 'learning_rate': 0.001, 'n1': 10, 'n2': 20}\n",
            "Using device: cpu\n"
          ]
        },
        {
          "name": "stderr",
          "output_type": "stream",
          "text": [
            "Training epochs:: 100%|██████████| 50/50 [03:10<00:00,  3.81s/epoch]\n"
          ]
        },
        {
          "name": "stdout",
          "output_type": "stream",
          "text": [
            "Test Loss: 0.4576, Test Accuracy: 0.9075\n",
            "Testing parameters: {'batch_size': 32, 'k1': 2, 'k2': 8, 'learning_rate': 0.001, 'n1': 20, 'n2': 10}\n",
            "Using device: cpu\n"
          ]
        },
        {
          "name": "stderr",
          "output_type": "stream",
          "text": [
            "Training epochs:: 100%|██████████| 50/50 [03:02<00:00,  3.66s/epoch]\n"
          ]
        },
        {
          "name": "stdout",
          "output_type": "stream",
          "text": [
            "Test Loss: 0.4541, Test Accuracy: 0.9055\n",
            "Testing parameters: {'batch_size': 32, 'k1': 2, 'k2': 8, 'learning_rate': 0.001, 'n1': 20, 'n2': 20}\n",
            "Using device: cpu\n"
          ]
        },
        {
          "name": "stderr",
          "output_type": "stream",
          "text": [
            "Training epochs:: 100%|██████████| 50/50 [03:13<00:00,  3.88s/epoch]\n"
          ]
        },
        {
          "name": "stdout",
          "output_type": "stream",
          "text": [
            "Test Loss: 0.4720, Test Accuracy: 0.9060\n",
            "Testing parameters: {'batch_size': 32, 'k1': 2, 'k2': 8, 'learning_rate': 0.01, 'n1': 10, 'n2': 10}\n",
            "Using device: cpu\n"
          ]
        },
        {
          "name": "stderr",
          "output_type": "stream",
          "text": [
            "Training epochs:: 100%|██████████| 50/50 [02:58<00:00,  3.57s/epoch]\n"
          ]
        },
        {
          "name": "stdout",
          "output_type": "stream",
          "text": [
            "Test Loss: 1.2375, Test Accuracy: 0.8770\n",
            "Testing parameters: {'batch_size': 32, 'k1': 2, 'k2': 8, 'learning_rate': 0.01, 'n1': 10, 'n2': 20}\n",
            "Using device: cpu\n"
          ]
        },
        {
          "name": "stderr",
          "output_type": "stream",
          "text": [
            "Training epochs:: 100%|██████████| 50/50 [03:09<00:00,  3.79s/epoch]\n"
          ]
        },
        {
          "name": "stdout",
          "output_type": "stream",
          "text": [
            "Test Loss: 1.2247, Test Accuracy: 0.8790\n",
            "Testing parameters: {'batch_size': 32, 'k1': 2, 'k2': 8, 'learning_rate': 0.01, 'n1': 20, 'n2': 10}\n",
            "Using device: cpu\n"
          ]
        },
        {
          "name": "stderr",
          "output_type": "stream",
          "text": [
            "Training epochs:: 100%|██████████| 50/50 [03:00<00:00,  3.61s/epoch]\n"
          ]
        },
        {
          "name": "stdout",
          "output_type": "stream",
          "text": [
            "Test Loss: 0.9161, Test Accuracy: 0.9035\n",
            "Testing parameters: {'batch_size': 32, 'k1': 2, 'k2': 8, 'learning_rate': 0.01, 'n1': 20, 'n2': 20}\n",
            "Using device: cpu\n"
          ]
        },
        {
          "name": "stderr",
          "output_type": "stream",
          "text": [
            "Training epochs:: 100%|██████████| 50/50 [03:12<00:00,  3.85s/epoch]\n"
          ]
        },
        {
          "name": "stdout",
          "output_type": "stream",
          "text": [
            "Test Loss: 0.9794, Test Accuracy: 0.8920\n",
            "Testing parameters: {'batch_size': 32, 'k1': 4, 'k2': 4, 'learning_rate': 0.001, 'n1': 10, 'n2': 10}\n",
            "Using device: cpu\n"
          ]
        },
        {
          "name": "stderr",
          "output_type": "stream",
          "text": [
            "Training epochs:: 100%|██████████| 50/50 [02:35<00:00,  3.10s/epoch]\n"
          ]
        },
        {
          "name": "stdout",
          "output_type": "stream",
          "text": [
            "Test Loss: 0.5019, Test Accuracy: 0.8965\n",
            "Testing parameters: {'batch_size': 32, 'k1': 4, 'k2': 4, 'learning_rate': 0.001, 'n1': 10, 'n2': 20}\n",
            "Using device: cpu\n"
          ]
        },
        {
          "name": "stderr",
          "output_type": "stream",
          "text": [
            "Training epochs:: 100%|██████████| 50/50 [02:42<00:00,  3.25s/epoch]\n"
          ]
        },
        {
          "name": "stdout",
          "output_type": "stream",
          "text": [
            "Test Loss: 0.4294, Test Accuracy: 0.9105\n",
            "Testing parameters: {'batch_size': 32, 'k1': 4, 'k2': 4, 'learning_rate': 0.001, 'n1': 20, 'n2': 10}\n",
            "Using device: cpu\n"
          ]
        },
        {
          "name": "stderr",
          "output_type": "stream",
          "text": [
            "Training epochs:: 100%|██████████| 50/50 [02:43<00:00,  3.27s/epoch]\n"
          ]
        },
        {
          "name": "stdout",
          "output_type": "stream",
          "text": [
            "Test Loss: 0.4294, Test Accuracy: 0.9105\n",
            "Testing parameters: {'batch_size': 32, 'k1': 4, 'k2': 4, 'learning_rate': 0.001, 'n1': 20, 'n2': 20}\n",
            "Using device: cpu\n"
          ]
        },
        {
          "name": "stderr",
          "output_type": "stream",
          "text": [
            "Training epochs:: 100%|██████████| 50/50 [02:50<00:00,  3.42s/epoch]\n"
          ]
        },
        {
          "name": "stdout",
          "output_type": "stream",
          "text": [
            "Test Loss: 0.4364, Test Accuracy: 0.9175\n",
            "Testing parameters: {'batch_size': 32, 'k1': 4, 'k2': 4, 'learning_rate': 0.01, 'n1': 10, 'n2': 10}\n",
            "Using device: cpu\n"
          ]
        },
        {
          "name": "stderr",
          "output_type": "stream",
          "text": [
            "Training epochs:: 100%|██████████| 50/50 [02:34<00:00,  3.09s/epoch]\n"
          ]
        },
        {
          "name": "stdout",
          "output_type": "stream",
          "text": [
            "Test Loss: 0.9506, Test Accuracy: 0.8875\n",
            "Testing parameters: {'batch_size': 32, 'k1': 4, 'k2': 4, 'learning_rate': 0.01, 'n1': 10, 'n2': 20}\n",
            "Using device: cpu\n"
          ]
        },
        {
          "name": "stderr",
          "output_type": "stream",
          "text": [
            "Training epochs:: 100%|██████████| 50/50 [02:42<00:00,  3.25s/epoch]\n"
          ]
        },
        {
          "name": "stdout",
          "output_type": "stream",
          "text": [
            "Test Loss: 0.9571, Test Accuracy: 0.9025\n",
            "Testing parameters: {'batch_size': 32, 'k1': 4, 'k2': 4, 'learning_rate': 0.01, 'n1': 20, 'n2': 10}\n",
            "Using device: cpu\n"
          ]
        },
        {
          "name": "stderr",
          "output_type": "stream",
          "text": [
            "Training epochs:: 100%|██████████| 50/50 [02:43<00:00,  3.27s/epoch]\n"
          ]
        },
        {
          "name": "stdout",
          "output_type": "stream",
          "text": [
            "Test Loss: 0.9571, Test Accuracy: 0.9025\n",
            "Testing parameters: {'batch_size': 32, 'k1': 4, 'k2': 4, 'learning_rate': 0.01, 'n1': 20, 'n2': 20}\n",
            "Using device: cpu\n"
          ]
        },
        {
          "name": "stderr",
          "output_type": "stream",
          "text": [
            "Training epochs:: 100%|██████████| 50/50 [02:47<00:00,  3.36s/epoch]\n"
          ]
        },
        {
          "name": "stdout",
          "output_type": "stream",
          "text": [
            "Test Loss: 0.9482, Test Accuracy: 0.9050\n",
            "Testing parameters: {'batch_size': 32, 'k1': 4, 'k2': 8, 'learning_rate': 0.001, 'n1': 10, 'n2': 10}\n",
            "Using device: cpu\n"
          ]
        },
        {
          "name": "stderr",
          "output_type": "stream",
          "text": [
            "Training epochs:: 100%|██████████| 50/50 [03:23<00:00,  4.08s/epoch]\n"
          ]
        },
        {
          "name": "stdout",
          "output_type": "stream",
          "text": [
            "Test Loss: 0.4761, Test Accuracy: 0.9055\n",
            "Testing parameters: {'batch_size': 32, 'k1': 4, 'k2': 8, 'learning_rate': 0.001, 'n1': 10, 'n2': 20}\n",
            "Using device: cpu\n"
          ]
        },
        {
          "name": "stderr",
          "output_type": "stream",
          "text": [
            "Training epochs:: 100%|██████████| 50/50 [03:33<00:00,  4.28s/epoch]\n"
          ]
        },
        {
          "name": "stdout",
          "output_type": "stream",
          "text": [
            "Test Loss: 0.4870, Test Accuracy: 0.9045\n",
            "Testing parameters: {'batch_size': 32, 'k1': 4, 'k2': 8, 'learning_rate': 0.001, 'n1': 20, 'n2': 10}\n",
            "Using device: cpu\n"
          ]
        },
        {
          "name": "stderr",
          "output_type": "stream",
          "text": [
            "Training epochs:: 100%|██████████| 50/50 [03:30<00:00,  4.22s/epoch]\n"
          ]
        },
        {
          "name": "stdout",
          "output_type": "stream",
          "text": [
            "Test Loss: 0.4705, Test Accuracy: 0.9020\n",
            "Testing parameters: {'batch_size': 32, 'k1': 4, 'k2': 8, 'learning_rate': 0.001, 'n1': 20, 'n2': 20}\n",
            "Using device: cpu\n"
          ]
        },
        {
          "name": "stderr",
          "output_type": "stream",
          "text": [
            "Training epochs:: 100%|██████████| 50/50 [03:46<00:00,  4.53s/epoch]\n"
          ]
        },
        {
          "name": "stdout",
          "output_type": "stream",
          "text": [
            "Test Loss: 0.4701, Test Accuracy: 0.9030\n",
            "Testing parameters: {'batch_size': 32, 'k1': 4, 'k2': 8, 'learning_rate': 0.01, 'n1': 10, 'n2': 10}\n",
            "Using device: cpu\n"
          ]
        },
        {
          "name": "stderr",
          "output_type": "stream",
          "text": [
            "Training epochs:: 100%|██████████| 50/50 [03:25<00:00,  4.12s/epoch]\n"
          ]
        },
        {
          "name": "stdout",
          "output_type": "stream",
          "text": [
            "Test Loss: 1.3580, Test Accuracy: 0.8700\n",
            "Testing parameters: {'batch_size': 32, 'k1': 4, 'k2': 8, 'learning_rate': 0.01, 'n1': 10, 'n2': 20}\n",
            "Using device: cpu\n"
          ]
        },
        {
          "name": "stderr",
          "output_type": "stream",
          "text": [
            "Training epochs:: 100%|██████████| 50/50 [03:36<00:00,  4.33s/epoch]\n"
          ]
        },
        {
          "name": "stdout",
          "output_type": "stream",
          "text": [
            "Test Loss: 1.1052, Test Accuracy: 0.8880\n",
            "Testing parameters: {'batch_size': 32, 'k1': 4, 'k2': 8, 'learning_rate': 0.01, 'n1': 20, 'n2': 10}\n",
            "Using device: cpu\n"
          ]
        },
        {
          "name": "stderr",
          "output_type": "stream",
          "text": [
            "Training epochs:: 100%|██████████| 50/50 [03:33<00:00,  4.27s/epoch]\n"
          ]
        },
        {
          "name": "stdout",
          "output_type": "stream",
          "text": [
            "Test Loss: 0.9089, Test Accuracy: 0.8965\n",
            "Testing parameters: {'batch_size': 32, 'k1': 4, 'k2': 8, 'learning_rate': 0.01, 'n1': 20, 'n2': 20}\n",
            "Using device: cpu\n"
          ]
        },
        {
          "name": "stderr",
          "output_type": "stream",
          "text": [
            "Training epochs:: 100%|██████████| 50/50 [03:49<00:00,  4.59s/epoch]\n"
          ]
        },
        {
          "name": "stdout",
          "output_type": "stream",
          "text": [
            "Test Loss: 0.9974, Test Accuracy: 0.8885\n",
            "Best parameters: {'batch_size': 32, 'k1': 4, 'k2': 4, 'learning_rate': 0.001, 'n1': 20, 'n2': 20}\n",
            "Best test accuracy: 0.9175\n"
          ]
        },
        {
          "data": {
            "image/png": "[encoded data removed]",
            "text/plain": [
              "<Figure size 1500x500 with 1 Axes>"
            ]
          },
          "metadata": {},
          "output_type": "display_data"
        },
        {
          "data": {
            "image/png": "[encoded data removed]",
            "text/plain": [
              "<Figure size 1500x500 with 1 Axes>"
            ]
          },
          "metadata": {},
          "output_type": "display_data"
        }
      ],
      "source": [
        "from sklearn.model_selection import ParameterGrid\n",
        "\n",
        "param_grid = {\n",
        "    'k1': [2, 4],\n",
        "    'n1': [10, 20],\n",
        "    'k2': [4, 8],\n",
        "    'n2': [10, 20],\n",
        "    'batch_size': [16, 32],\n",
        "    'learning_rate': [0.001, 0.01]\n",
        "}\n",
        "\n",
        "best_accuracy = 0\n",
        "best_params = {}\n",
        "best_model = None\n",
        "best_train_losses = []\n",
        "best_train_accuracies = []\n",
        "best_val_losses = []\n",
        "best_val_accuracies = []\n",
        "\n",
        "# Loop through the parameters:\n",
        "for params in ParameterGrid(param_grid):\n",
        "  print(f\"Testing parameters: {params}\")\n",
        "  trained_model, test_accuracy, train_losses, train_accuracies, val_losses, val_accuracies = train(\n",
        "      args_batch_size=params['batch_size'],\n",
        "      arg_k1=params['k1'], arg_n1=params['n1'],\n",
        "      arg_k2=params['k2'], arg_n2=params['n2'],\n",
        "      learning_rate=params['learning_rate']\n",
        "  )\n",
        "  if test_accuracy > best_accuracy:\n",
        "    best_accuracy = test_accuracy\n",
        "    best_params = params\n",
        "    best_model = trained_model\n",
        "    best_train_losses = train_losses\n",
        "    best_train_accuracies = train_accuracies\n",
        "    best_val_losses = val_losses\n",
        "    best_val_accuracies = val_accuracies\n",
        "\n",
        "print(f\"Best parameters: {best_params}\")\n",
        "print(f\"Best test accuracy: {best_accuracy}\")\n",
        "\n",
        "# Plot:\n",
        "plot_loss_curves(50, best_train_losses, best_val_losses)\n",
        "plot_accuracy_curves(50, best_train_accuracies, best_val_accuracies)\n"
      ]
    },
    {
      "cell_type": "markdown",
      "metadata": {
        "id": "Ose_Anturq_o"
      },
      "source": [
        "We re-define the CNN classifier but with `freeze=False`:"
      ]
    },
    {
      "cell_type": "code",
      "execution_count": 68,
      "metadata": {
        "id": "tSSVO5c2rLl9"
      },
      "outputs": [],
      "source": [
        "class CNNClassifier(nn.Module):\n",
        "  def __init__(self, vocab, k1=2, k2=4, n1=50, n2=50):\n",
        "    super(CNNClassifier, self).__init__()\n",
        "\n",
        "    self.embedding = nn.Embedding.from_pretrained(vocab.vectors, freeze=False)\n",
        "\n",
        "    # Convolutional layers:\n",
        "    embedding_dim = vocab.vectors.shape[1]\n",
        "    self.conv1 = nn.Conv2d(in_channels=1, out_channels=n1, kernel_size=(k1, embedding_dim), bias=False)\n",
        "    self.conv2 = nn.Conv2d(in_channels=1, out_channels=n2, kernel_size=(k2, embedding_dim), bias=False)\n",
        "\n",
        "    # Fully-connected layer:\n",
        "    # Input size: n1 + n2\n",
        "    self.fc = nn.Linear(n1 + n2, 1)\n",
        "\n",
        "  def forward(self, x):\n",
        "    # Expand word indices to word embeddings:\n",
        "    embeddings = self.embedding(x)\n",
        "    embeddings = embeddings.unsqueeze(1)\n",
        "\n",
        "    # Use ReLU:\n",
        "    conv1_out = nn.functional.relu(self.conv1(embeddings))\n",
        "    conv2_out = nn.functional.relu(self.conv2(embeddings))\n",
        "\n",
        "    pool1_out = nn.functional.max_pool2d(conv1_out, kernel_size=(conv1_out.size(2), 1)).squeeze(2)\n",
        "    pool2_out = nn.functional.max_pool2d(conv2_out, kernel_size=(conv2_out.size(2), 1)).squeeze(2)\n",
        "\n",
        "    combined = torch.cat((pool1_out, pool2_out), dim=1)\n",
        "    combined = combined.squeeze(2)\n",
        "\n",
        "    output = self.fc(combined)\n",
        "\n",
        "    return output"
      ]
    },
    {
      "cell_type": "code",
      "execution_count": 69,
      "metadata": {
        "colab": {
          "base_uri": "https://localhost:8080/"
        },
        "id": "KaeOvhxiq1gA",
        "outputId": "dc67d7ed-4bf3-40f7-b688-7e05aaba5745"
      },
      "outputs": [
        {
          "name": "stdout",
          "output_type": "stream",
          "text": [
            "Using device: cpu\n"
          ]
        },
        {
          "name": "stderr",
          "output_type": "stream",
          "text": [
            "Training epochs:: 100%|██████████| 50/50 [02:53<00:00,  3.47s/epoch]\n"
          ]
        },
        {
          "name": "stdout",
          "output_type": "stream",
          "text": [
            "Test Loss: 0.4331, Test Accuracy: 0.9165\n"
          ]
        }
      ],
      "source": [
        "trained_model, test_accuracy, train_losses, train_accuracies, val_losses, val_accuracies = train(\n",
        "    args_batch_size=32,\n",
        "    arg_k1=4, arg_n1=20,\n",
        "    arg_k2=4, arg_n2=20,\n",
        "    learning_rate=0.001\n",
        ")"
      ]
    },
    {
      "cell_type": "markdown",
      "metadata": {
        "id": "bdSfvu4euORw"
      },
      "source": [
        "Kernel values:"
      ]
    },
    {
      "cell_type": "code",
      "execution_count": 74,
      "metadata": {
        "colab": {
          "base_uri": "https://localhost:8080/"
        },
        "id": "A-tnZHuDuPpG",
        "outputId": "9e538d23-c2e2-41d4-9459-a3f433565b45"
      },
      "outputs": [
        {
          "name": "stdout",
          "output_type": "stream",
          "text": [
            "torch.Size([100])\n",
            "redirection \t 0.48\n",
            "tidbit \t 0.48\n",
            "condiment \t 0.44\n",
            "copout \t 0.44\n",
            "deflects \t 0.43\n"
          ]
        }
      ],
      "source": [
        "conv1_kernels = trained_model.conv1.weight.data\n",
        "conv2_kernels = trained_model.conv2.weight.data\n",
        "print(conv1_kernels[0][0][0].shape)\n",
        "\n",
        "# Print out the N-most (where N is a parameter) similar words using cosine similarity\n",
        "def print_closest_cosine_words(vec, n=5):\n",
        "    # Unsqueeze to 2D tensors in order to use `torch.cosine_similarity()`:\n",
        "    cos_similarities = torch.cosine_similarity(vec.unsqueeze(0), glove.vectors.unsqueeze(1), dim=2) # `dim=2` is important\n",
        "    # print(cos_similarities[0:5])\n",
        "\n",
        "    # Use enumerate() to create pairs of an index and a cosine similarity value:\n",
        "    lst = sorted(enumerate(cos_similarities), key=lambda x: x[1], reverse=True) # descending order\n",
        "    for idx, difference in lst[1:n+1]: # takes the top n words other than that word itself\n",
        "        print(glove.itos[idx], \"\\t%5.2f\" % difference)\n",
        "\n",
        "print_closest_cosine_words(conv1_kernels[0][0][0], n=5)"
      ]
    },
    {
      "cell_type": "code",
      "execution_count": 70,
      "metadata": {
        "id": "Vito1ZoHtmpx"
      },
      "outputs": [],
      "source": [
        "torch.save(trained_model.state_dict(), 'cnn.pt')"
      ]
    }
  ],
  "metadata": {
    "colab": {
      "provenance": []
    },
    "kernelspec": {
      "display_name": "Python 3",
      "name": "python3"
    },
    "language_info": {
      "name": "python"
    }
  },
  "nbformat": 4,
  "nbformat_minor": 0
}
